{
 "cells": [
  {
   "cell_type": "code",
   "execution_count": 18,
   "id": "3dc393fc",
   "metadata": {},
   "outputs": [],
   "source": [
    "import random\n",
    "from dataclasses import dataclass"
   ]
  },
  {
   "cell_type": "code",
   "execution_count": 19,
   "id": "82d06672",
   "metadata": {},
   "outputs": [],
   "source": [
    "@dataclass\n",
    "class Battery:\n",
    "    soh: float = 100.0  # State of Health\n",
    "    age: float = 0.0  # Age in years\n",
    "    total_km: float = 0.0  # Total kilometers traveled"
   ]
  },
  {
   "cell_type": "code",
   "execution_count": 20,
   "id": "92abf293",
   "metadata": {},
   "outputs": [],
   "source": [
    "class BatteryLifecycleSimulation:\n",
    "    def __init__(self):\n",
    "        self.battery = Battery()\n",
    "        self.current_life = 1\n",
    "        self.years_in_current_life = 0\n",
    "        self.battery_capacity = 250  # kWh\n",
    "        self.initial_cost = self.battery_capacity * 140  # USD\n",
    "        self.refurbish_cost_1 = self.battery_capacity * 30  # USD\n",
    "        self.refurbish_cost_2 = self.battery_capacity * 20  # USD\n",
    "        self.recycling_value = 1300  # USD\n",
    "        self.total_cost = self.initial_cost - self.recycling_value  # Reduce upfront cost by recycling value\n",
    "\n",
    "    def degrade_battery(self, years, km_per_year, soh_loss_per_year):\n",
    "        for _ in range(years):\n",
    "            self.battery.soh -= soh_loss_per_year + random.uniform(-1, 1)  # Add some randomness\n",
    "            self.battery.age += 1\n",
    "            self.battery.total_km += km_per_year\n",
    "            self.years_in_current_life += 1\n",
    "            if self.battery.soh <= self.get_end_of_life_soh():\n",
    "                return False\n",
    "        return True\n",
    "\n",
    "    def get_end_of_life_soh(self):\n",
    "        if self.current_life == 1:\n",
    "            return 80\n",
    "        elif self.current_life == 2:\n",
    "            return 70\n",
    "        else:\n",
    "            return 50\n",
    "\n",
    "    def refurbish(self):\n",
    "        if self.current_life == 1:\n",
    "            self.battery.soh = 90\n",
    "            self.total_cost += self.refurbish_cost_1\n",
    "        elif self.current_life == 2:\n",
    "            self.battery.soh = 75\n",
    "            self.total_cost += self.refurbish_cost_2\n",
    "\n",
    "    def calculate_lease_rental(self, years_in_life, cost):\n",
    "        return cost / years_in_life\n",
    "\n",
    "    def run_simulation(self):\n",
    "        # First life: Battery Electric Truck\n",
    "        truck_km_per_year = 72000\n",
    "        truck_soh_loss_per_year = 5\n",
    "        while self.degrade_battery(1, truck_km_per_year, truck_soh_loss_per_year):\n",
    "            pass\n",
    "        \n",
    "        first_life_years = self.years_in_current_life\n",
    "        first_life_lease = self.calculate_lease_rental(first_life_years, self.initial_cost - self.recycling_value)\n",
    "\n",
    "        self.refurbish()\n",
    "        self.current_life += 1\n",
    "        self.years_in_current_life = 0\n",
    "\n",
    "        # Second life: Electric 2-wheeler\n",
    "        two_wheeler_km_per_year = 15000\n",
    "        two_wheeler_soh_loss_per_year = 4\n",
    "        while self.degrade_battery(1, two_wheeler_km_per_year, two_wheeler_soh_loss_per_year):\n",
    "            pass\n",
    "\n",
    "        second_life_years = self.years_in_current_life\n",
    "        second_life_lease = self.calculate_lease_rental(second_life_years, self.refurbish_cost_1)\n",
    "\n",
    "        self.refurbish()\n",
    "        self.current_life += 1\n",
    "        self.years_in_current_life = 0\n",
    "\n",
    "        # Third life: Stationary storage\n",
    "        stationary_soh_loss_per_year = 3\n",
    "        while self.degrade_battery(1, 0, stationary_soh_loss_per_year):\n",
    "            pass\n",
    "\n",
    "        third_life_years = self.years_in_current_life\n",
    "        third_life_lease = self.calculate_lease_rental(third_life_years, self.refurbish_cost_2)\n",
    "\n",
    "        return {\n",
    "            \"total_years\": self.battery.age,\n",
    "            \"truck_km\": self.battery.total_km - (second_life_years * two_wheeler_km_per_year),\n",
    "            \"two_wheeler_km\": second_life_years * two_wheeler_km_per_year,\n",
    "            \"stationary_years\": third_life_years,\n",
    "            \"first_life_lease\": first_life_lease,\n",
    "            \"second_life_lease\": second_life_lease,\n",
    "            \"third_life_lease\": third_life_lease,\n",
    "            \"total_cost\": self.total_cost,\n",
    "            \"effective_cost\": self.total_cost - self.recycling_value  # Consider recycling value in effective cost\n",
    "        }\n"
   ]
  },
  {
   "cell_type": "code",
   "execution_count": 21,
   "id": "d206b4e5",
   "metadata": {},
   "outputs": [],
   "source": [
    "num_simulations = 1000\n",
    "results = []"
   ]
  },
  {
   "cell_type": "code",
   "execution_count": 22,
   "id": "1dcff92c",
   "metadata": {
    "scrolled": true
   },
   "outputs": [],
   "source": [
    "for _ in range(num_simulations):\n",
    "    sim = BatteryLifecycleSimulation()\n",
    "    results.append(sim.run_simulation())"
   ]
  },
  {
   "cell_type": "code",
   "execution_count": 23,
   "id": "1183b5d2",
   "metadata": {},
   "outputs": [],
   "source": [
    "# Calculate averages\n",
    "avg_total_years = sum(r[\"total_years\"] for r in results) / num_simulations\n",
    "avg_truck_km = sum(r[\"truck_km\"] for r in results) / num_simulations\n",
    "avg_two_wheeler_km = sum(r[\"two_wheeler_km\"] for r in results) / num_simulations\n",
    "avg_stationary_years = sum(r[\"stationary_years\"] for r in results) / num_simulations\n",
    "avg_first_life_lease = sum(r[\"first_life_lease\"] for r in results) / num_simulations\n",
    "avg_second_life_lease = sum(r[\"second_life_lease\"] for r in results) / num_simulations\n",
    "avg_third_life_lease = sum(r[\"third_life_lease\"] for r in results) / num_simulations\n",
    "avg_total_cost = sum(r[\"total_cost\"] for r in results) / num_simulations\n",
    "avg_effective_cost = sum(r[\"effective_cost\"] for r in results) / num_simulations"
   ]
  },
  {
   "cell_type": "code",
   "execution_count": 24,
   "id": "6357e25d",
   "metadata": {
    "scrolled": false
   },
   "outputs": [
    {
     "name": "stdout",
     "output_type": "stream",
     "text": [
      "Average total battery lifetime: 18.89 years\n",
      "Average distance traveled by truck: 322848.00 km\n",
      "Average distance traveled by two-wheeler: 82920.00 km\n",
      "Average years in stationary storage: 8.88 years\n",
      "Average yearly lease rental for first life: $7609.46\n",
      "Average yearly lease rental for second life: $1368.14\n",
      "Average yearly lease rental for third life: $566.07\n",
      "Average total cost over lifetime: $46200.00\n",
      "Average effective cost (considering recycling value): $44900.00\n"
     ]
    }
   ],
   "source": [
    "print(f\"Average total battery lifetime: {avg_total_years:.2f} years\")\n",
    "print(f\"Average distance traveled by truck: {avg_truck_km:.2f} km\")\n",
    "print(f\"Average distance traveled by two-wheeler: {avg_two_wheeler_km:.2f} km\")\n",
    "print(f\"Average years in stationary storage: {avg_stationary_years:.2f} years\")\n",
    "print(f\"Average yearly lease rental for first life: ${avg_first_life_lease:.2f}\")\n",
    "print(f\"Average yearly lease rental for second life: ${avg_second_life_lease:.2f}\")\n",
    "print(f\"Average yearly lease rental for third life: ${avg_third_life_lease:.2f}\")\n",
    "print(f\"Average total cost over lifetime: ${avg_total_cost:.2f}\")\n",
    "print(f\"Average effective cost (considering recycling value): ${avg_effective_cost:.2f}\")"
   ]
  },
  {
   "cell_type": "code",
   "execution_count": null,
   "id": "b59be3db",
   "metadata": {},
   "outputs": [],
   "source": []
  }
 ],
 "metadata": {
  "kernelspec": {
   "display_name": "Python 3 (ipykernel)",
   "language": "python",
   "name": "python3"
  },
  "language_info": {
   "codemirror_mode": {
    "name": "ipython",
    "version": 3
   },
   "file_extension": ".py",
   "mimetype": "text/x-python",
   "name": "python",
   "nbconvert_exporter": "python",
   "pygments_lexer": "ipython3",
   "version": "3.10.9"
  }
 },
 "nbformat": 4,
 "nbformat_minor": 5
}
